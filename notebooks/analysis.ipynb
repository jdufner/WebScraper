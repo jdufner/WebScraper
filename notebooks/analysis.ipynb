{
 "cells": [
  {
   "cell_type": "markdown",
   "metadata": {},
   "source": [
    "# Analysis to detect even more blacklisted domains"
   ]
  },
  {
   "cell_type": "code",
   "execution_count": 4,
   "metadata": {},
   "outputs": [
    {
     "name": "stdout",
     "output_type": "stream",
     "text": [
      "www.heise.de 21\n"
     ]
    }
   ],
   "source": [
    "import itertools\n",
    "import sqlite3\n",
    "from urllib import parse\n",
    "from urllib.parse import ParseResult\n",
    "\n",
    "con = sqlite3.connect(\"../heise_sqlite3.db\")\n",
    "cur = con.cursor()\n",
    "\n",
    "cur = cur.execute('select url from documents')\n",
    "result = cur.fetchall()\n",
    "\n",
    "netlocs = []\n",
    "for r in result:\n",
    "    parsed_url: ParseResult = parse.urlparse(r[0])\n",
    "    netlocs.append(parsed_url.netloc)\n",
    "netlocs.sort()\n",
    "\n",
    "groups = itertools.groupby(netlocs)\n",
    "for i, j in groups:\n",
    "    print(i, len(list(j)))\n"
   ]
  }
 ],
 "metadata": {
  "kernelspec": {
   "display_name": ".venv",
   "language": "python",
   "name": "python3"
  },
  "language_info": {
   "codemirror_mode": {
    "name": "ipython",
    "version": 3
   },
   "file_extension": ".py",
   "mimetype": "text/x-python",
   "name": "python",
   "nbconvert_exporter": "python",
   "pygments_lexer": "ipython3",
   "version": "3.12.1"
  }
 },
 "nbformat": 4,
 "nbformat_minor": 2
}
