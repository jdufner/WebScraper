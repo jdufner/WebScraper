{
 "cells": [
  {
   "cell_type": "markdown",
   "metadata": {},
   "source": [
    "# Analysis to detect even more blacklisted domains"
   ]
  },
  {
   "cell_type": "code",
   "execution_count": 1,
   "metadata": {},
   "outputs": [
    {
     "name": "stdout",
     "output_type": "stream",
     "text": [
      "bit-rauschen.podigee.io 1\n",
      "bitsundboeses.podigee.io 1\n",
      "cdn.netzpolitik.org 1\n",
      "cloud.google.com 2\n",
      "ct-auslegungssache.podigee.io 1\n",
      "ct-uplink.podigee.io 1\n",
      "ct.de 2\n",
      "edri.org 1\n",
      "enterjs.de 1\n",
      "evcc.io 1\n",
      "heise.de 28\n",
      "heiseshow.podigee.io 1\n",
      "kiupdate.podigee.io 1\n",
      "kurzinformiert.podigee.io 1\n",
      "m.heise.de 1\n",
      "m.me 1\n",
      "media.usu.com 1\n",
      "netzpolitik.org 1\n",
      "open.spotify.com 13\n",
      "openssf.org 1\n",
      "podcasts.apple.com 11\n",
      "podcasts.google.com 8\n",
      "reddit.com 1\n",
      "tnbt.podigee.io 1\n",
      "vorsicht-kunde.podigee.io 1\n",
      "www.abendblatt.de 1\n",
      "www.bka.de 1\n",
      "www.bsi.bund.de 1\n",
      "www.bundesbank.de 1\n",
      "www.csoonline.com 1\n",
      "www.deezer.com 11\n",
      "www.deutschebahn.com 1\n",
      "www.edpb.europa.eu 1\n",
      "www.faz.net 1\n",
      "www.gelsenkirchen.de 1\n",
      "www.gigabyte.com 3\n",
      "www.heise.de 1087\n",
      "www.ipfire.org 1\n",
      "www.linkedin.com 1\n",
      "www.m3-konferenz.de 1\n",
      "www.mandiant.com 1\n",
      "www.mastering-obs.de 1\n",
      "www.outbrain.com 1\n",
      "www.patrick-breyer.de 1\n",
      "www.talque.com 1\n",
      "www.tiktok.com 1\n",
      "www.vg-gelsenkirchen.nrw.de 1\n",
      "www.zayo.com 1\n",
      "www1.wdr.de 2\n"
     ]
    }
   ],
   "source": [
    "import itertools\n",
    "import sqlite3\n",
    "from urllib import parse\n",
    "from urllib.parse import ParseResult\n",
    "\n",
    "con = sqlite3.connect(\"../heise_sqlite3.db\")\n",
    "cur = con.cursor()\n",
    "\n",
    "cur = cur.execute('select url from documents')\n",
    "result = cur.fetchall()\n",
    "\n",
    "netlocs = []\n",
    "for r in result:\n",
    "    parsed_url: ParseResult = parse.urlparse(r[0])\n",
    "    netlocs.append(parsed_url.netloc)\n",
    "\n",
    "netlocs.sort()\n",
    "groups = itertools.groupby(netlocs)\n",
    "for i, j in groups:\n",
    "    print(i, len(list(j)))"
   ]
  }
 ],
 "metadata": {
  "kernelspec": {
   "display_name": ".venv",
   "language": "python",
   "name": "python3"
  },
  "language_info": {
   "codemirror_mode": {
    "name": "ipython",
    "version": 3
   },
   "file_extension": ".py",
   "mimetype": "text/x-python",
   "name": "python",
   "nbconvert_exporter": "python",
   "pygments_lexer": "ipython3",
   "version": "3.11.5"
  }
 },
 "nbformat": 4,
 "nbformat_minor": 2
}
